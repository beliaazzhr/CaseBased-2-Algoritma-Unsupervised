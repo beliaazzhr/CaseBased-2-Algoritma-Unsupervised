{
  "nbformat": 4,
  "nbformat_minor": 0,
  "metadata": {
    "colab": {
      "provenance": [],
      "authorship_tag": "ABX9TyPInFRa+6MwogvKUFr1VGj4",
      "include_colab_link": true
    },
    "kernelspec": {
      "name": "python3",
      "display_name": "Python 3"
    },
    "language_info": {
      "name": "python"
    }
  },
  "cells": [
    {
      "cell_type": "markdown",
      "metadata": {
        "id": "view-in-github",
        "colab_type": "text"
      },
      "source": [
        "<a href=\"https://colab.research.google.com/github/beliaazzhr/CaseBased-2-Algoritma-Unsupervised/blob/main/Case_Based_2_1301200048.ipynb\" target=\"_parent\"><img src=\"https://colab.research.google.com/assets/colab-badge.svg\" alt=\"Open In Colab\"/></a>"
      ]
    },
    {
      "cell_type": "markdown",
      "source": [
        "Anyelir Belia Azzahra\n",
        "\n",
        "1301200048\n",
        "\n",
        "IF-44-08"
      ],
      "metadata": {
        "id": "9kukVvcqB-dB"
      }
    },
    {
      "cell_type": "code",
      "source": [
        "#import library\n",
        "\n",
        "import numpy as np\n",
        "import pandas as pd\n",
        "from sklearn.cluster import KMeans\n",
        "import matplotlib.pyplot as plt\n",
        "import seaborn as sns\n",
        "from sklearn.preprocessing import StandardScaler\n",
        "from sklearn.decomposition import PCA\n",
        "from copy import deepcopy"
      ],
      "metadata": {
        "id": "5Sy4cdWaCOKz"
      },
      "execution_count": null,
      "outputs": []
    },
    {
      "cell_type": "code",
      "source": [
        "data = pd.read_csv('Country-data.csv', index_col=0)\n",
        "#menampilkan dataset\n",
        "data.head()"
      ],
      "metadata": {
        "colab": {
          "base_uri": "https://localhost:8080/",
          "height": 215
        },
        "id": "ozlchvhrECIy",
        "outputId": "9f429cd6-e38f-40de-bba6-6a268547c117"
      },
      "execution_count": null,
      "outputs": [
        {
          "output_type": "execute_result",
          "data": {
            "text/plain": [
              "                     child_mort  exports  health  imports  income  inflation  \\\n",
              "country                                                                        \n",
              "Afghanistan                90.2     10.0    7.58     44.9    1610       9.44   \n",
              "Albania                    16.6     28.0    6.55     48.6    9930       4.49   \n",
              "Algeria                    27.3     38.4    4.17     31.4   12900      16.10   \n",
              "Angola                    119.0     62.3    2.85     42.9    5900      22.40   \n",
              "Antigua and Barbuda        10.3     45.5    6.03     58.9   19100       1.44   \n",
              "\n",
              "                     life_expec  total_fer   gdpp  \n",
              "country                                            \n",
              "Afghanistan                56.2       5.82    553  \n",
              "Albania                    76.3       1.65   4090  \n",
              "Algeria                    76.5       2.89   4460  \n",
              "Angola                     60.1       6.16   3530  \n",
              "Antigua and Barbuda        76.8       2.13  12200  "
            ],
            "text/html": [
              "\n",
              "  <div id=\"df-08452f4c-038c-4c76-a505-f8660ed44f16\">\n",
              "    <div class=\"colab-df-container\">\n",
              "      <div>\n",
              "<style scoped>\n",
              "    .dataframe tbody tr th:only-of-type {\n",
              "        vertical-align: middle;\n",
              "    }\n",
              "\n",
              "    .dataframe tbody tr th {\n",
              "        vertical-align: top;\n",
              "    }\n",
              "\n",
              "    .dataframe thead th {\n",
              "        text-align: right;\n",
              "    }\n",
              "</style>\n",
              "<table border=\"1\" class=\"dataframe\">\n",
              "  <thead>\n",
              "    <tr style=\"text-align: right;\">\n",
              "      <th></th>\n",
              "      <th>child_mort</th>\n",
              "      <th>exports</th>\n",
              "      <th>health</th>\n",
              "      <th>imports</th>\n",
              "      <th>income</th>\n",
              "      <th>inflation</th>\n",
              "      <th>life_expec</th>\n",
              "      <th>total_fer</th>\n",
              "      <th>gdpp</th>\n",
              "    </tr>\n",
              "    <tr>\n",
              "      <th>country</th>\n",
              "      <th></th>\n",
              "      <th></th>\n",
              "      <th></th>\n",
              "      <th></th>\n",
              "      <th></th>\n",
              "      <th></th>\n",
              "      <th></th>\n",
              "      <th></th>\n",
              "      <th></th>\n",
              "    </tr>\n",
              "  </thead>\n",
              "  <tbody>\n",
              "    <tr>\n",
              "      <th>Afghanistan</th>\n",
              "      <td>90.2</td>\n",
              "      <td>10.0</td>\n",
              "      <td>7.58</td>\n",
              "      <td>44.9</td>\n",
              "      <td>1610</td>\n",
              "      <td>9.44</td>\n",
              "      <td>56.2</td>\n",
              "      <td>5.82</td>\n",
              "      <td>553</td>\n",
              "    </tr>\n",
              "    <tr>\n",
              "      <th>Albania</th>\n",
              "      <td>16.6</td>\n",
              "      <td>28.0</td>\n",
              "      <td>6.55</td>\n",
              "      <td>48.6</td>\n",
              "      <td>9930</td>\n",
              "      <td>4.49</td>\n",
              "      <td>76.3</td>\n",
              "      <td>1.65</td>\n",
              "      <td>4090</td>\n",
              "    </tr>\n",
              "    <tr>\n",
              "      <th>Algeria</th>\n",
              "      <td>27.3</td>\n",
              "      <td>38.4</td>\n",
              "      <td>4.17</td>\n",
              "      <td>31.4</td>\n",
              "      <td>12900</td>\n",
              "      <td>16.10</td>\n",
              "      <td>76.5</td>\n",
              "      <td>2.89</td>\n",
              "      <td>4460</td>\n",
              "    </tr>\n",
              "    <tr>\n",
              "      <th>Angola</th>\n",
              "      <td>119.0</td>\n",
              "      <td>62.3</td>\n",
              "      <td>2.85</td>\n",
              "      <td>42.9</td>\n",
              "      <td>5900</td>\n",
              "      <td>22.40</td>\n",
              "      <td>60.1</td>\n",
              "      <td>6.16</td>\n",
              "      <td>3530</td>\n",
              "    </tr>\n",
              "    <tr>\n",
              "      <th>Antigua and Barbuda</th>\n",
              "      <td>10.3</td>\n",
              "      <td>45.5</td>\n",
              "      <td>6.03</td>\n",
              "      <td>58.9</td>\n",
              "      <td>19100</td>\n",
              "      <td>1.44</td>\n",
              "      <td>76.8</td>\n",
              "      <td>2.13</td>\n",
              "      <td>12200</td>\n",
              "    </tr>\n",
              "  </tbody>\n",
              "</table>\n",
              "</div>\n",
              "      <button class=\"colab-df-convert\" onclick=\"convertToInteractive('df-08452f4c-038c-4c76-a505-f8660ed44f16')\"\n",
              "              title=\"Convert this dataframe to an interactive table.\"\n",
              "              style=\"display:none;\">\n",
              "        \n",
              "  <svg xmlns=\"http://www.w3.org/2000/svg\" height=\"24px\"viewBox=\"0 0 24 24\"\n",
              "       width=\"24px\">\n",
              "    <path d=\"M0 0h24v24H0V0z\" fill=\"none\"/>\n",
              "    <path d=\"M18.56 5.44l.94 2.06.94-2.06 2.06-.94-2.06-.94-.94-2.06-.94 2.06-2.06.94zm-11 1L8.5 8.5l.94-2.06 2.06-.94-2.06-.94L8.5 2.5l-.94 2.06-2.06.94zm10 10l.94 2.06.94-2.06 2.06-.94-2.06-.94-.94-2.06-.94 2.06-2.06.94z\"/><path d=\"M17.41 7.96l-1.37-1.37c-.4-.4-.92-.59-1.43-.59-.52 0-1.04.2-1.43.59L10.3 9.45l-7.72 7.72c-.78.78-.78 2.05 0 2.83L4 21.41c.39.39.9.59 1.41.59.51 0 1.02-.2 1.41-.59l7.78-7.78 2.81-2.81c.8-.78.8-2.07 0-2.86zM5.41 20L4 18.59l7.72-7.72 1.47 1.35L5.41 20z\"/>\n",
              "  </svg>\n",
              "      </button>\n",
              "      \n",
              "  <style>\n",
              "    .colab-df-container {\n",
              "      display:flex;\n",
              "      flex-wrap:wrap;\n",
              "      gap: 12px;\n",
              "    }\n",
              "\n",
              "    .colab-df-convert {\n",
              "      background-color: #E8F0FE;\n",
              "      border: none;\n",
              "      border-radius: 50%;\n",
              "      cursor: pointer;\n",
              "      display: none;\n",
              "      fill: #1967D2;\n",
              "      height: 32px;\n",
              "      padding: 0 0 0 0;\n",
              "      width: 32px;\n",
              "    }\n",
              "\n",
              "    .colab-df-convert:hover {\n",
              "      background-color: #E2EBFA;\n",
              "      box-shadow: 0px 1px 2px rgba(60, 64, 67, 0.3), 0px 1px 3px 1px rgba(60, 64, 67, 0.15);\n",
              "      fill: #174EA6;\n",
              "    }\n",
              "\n",
              "    [theme=dark] .colab-df-convert {\n",
              "      background-color: #3B4455;\n",
              "      fill: #D2E3FC;\n",
              "    }\n",
              "\n",
              "    [theme=dark] .colab-df-convert:hover {\n",
              "      background-color: #434B5C;\n",
              "      box-shadow: 0px 1px 3px 1px rgba(0, 0, 0, 0.15);\n",
              "      filter: drop-shadow(0px 1px 2px rgba(0, 0, 0, 0.3));\n",
              "      fill: #FFFFFF;\n",
              "    }\n",
              "  </style>\n",
              "\n",
              "      <script>\n",
              "        const buttonEl =\n",
              "          document.querySelector('#df-08452f4c-038c-4c76-a505-f8660ed44f16 button.colab-df-convert');\n",
              "        buttonEl.style.display =\n",
              "          google.colab.kernel.accessAllowed ? 'block' : 'none';\n",
              "\n",
              "        async function convertToInteractive(key) {\n",
              "          const element = document.querySelector('#df-08452f4c-038c-4c76-a505-f8660ed44f16');\n",
              "          const dataTable =\n",
              "            await google.colab.kernel.invokeFunction('convertToInteractive',\n",
              "                                                     [key], {});\n",
              "          if (!dataTable) return;\n",
              "\n",
              "          const docLinkHtml = 'Like what you see? Visit the ' +\n",
              "            '<a target=\"_blank\" href=https://colab.research.google.com/notebooks/data_table.ipynb>data table notebook</a>'\n",
              "            + ' to learn more about interactive tables.';\n",
              "          element.innerHTML = '';\n",
              "          dataTable['output_type'] = 'display_data';\n",
              "          await google.colab.output.renderOutput(dataTable, element);\n",
              "          const docLink = document.createElement('div');\n",
              "          docLink.innerHTML = docLinkHtml;\n",
              "          element.appendChild(docLink);\n",
              "        }\n",
              "      </script>\n",
              "    </div>\n",
              "  </div>\n",
              "  "
            ]
          },
          "metadata": {},
          "execution_count": 24
        }
      ]
    },
    {
      "cell_type": "code",
      "source": [
        "#untuk menampilkan info data\n",
        "data.info()"
      ],
      "metadata": {
        "colab": {
          "base_uri": "https://localhost:8080/"
        },
        "id": "XInUvoj9jzsC",
        "outputId": "b13b73f3-9e31-4652-c11d-15d50d941852"
      },
      "execution_count": null,
      "outputs": [
        {
          "output_type": "stream",
          "name": "stdout",
          "text": [
            "<class 'pandas.core.frame.DataFrame'>\n",
            "Index: 167 entries, Afghanistan to Zambia\n",
            "Data columns (total 9 columns):\n",
            " #   Column      Non-Null Count  Dtype  \n",
            "---  ------      --------------  -----  \n",
            " 0   child_mort  167 non-null    float64\n",
            " 1   exports     167 non-null    float64\n",
            " 2   health      167 non-null    float64\n",
            " 3   imports     167 non-null    float64\n",
            " 4   income      167 non-null    int64  \n",
            " 5   inflation   167 non-null    float64\n",
            " 6   life_expec  167 non-null    float64\n",
            " 7   total_fer   167 non-null    float64\n",
            " 8   gdpp        167 non-null    int64  \n",
            "dtypes: float64(7), int64(2)\n",
            "memory usage: 13.0+ KB\n"
          ]
        }
      ]
    },
    {
      "cell_type": "code",
      "source": [
        "data.describe()"
      ],
      "metadata": {
        "colab": {
          "base_uri": "https://localhost:8080/",
          "height": 300
        },
        "id": "9dAjgLLqlR2x",
        "outputId": "cc0194ad-55d4-4f99-8ca6-9a452141f903"
      },
      "execution_count": null,
      "outputs": [
        {
          "output_type": "execute_result",
          "data": {
            "text/plain": [
              "       child_mort     exports      health     imports         income  \\\n",
              "count  167.000000  167.000000  167.000000  167.000000     167.000000   \n",
              "mean    38.270060   41.108976    6.815689   46.890215   17144.688623   \n",
              "std     40.328931   27.412010    2.746837   24.209589   19278.067698   \n",
              "min      2.600000    0.109000    1.810000    0.065900     609.000000   \n",
              "25%      8.250000   23.800000    4.920000   30.200000    3355.000000   \n",
              "50%     19.300000   35.000000    6.320000   43.300000    9960.000000   \n",
              "75%     62.100000   51.350000    8.600000   58.750000   22800.000000   \n",
              "max    208.000000  200.000000   17.900000  174.000000  125000.000000   \n",
              "\n",
              "        inflation  life_expec   total_fer           gdpp  \n",
              "count  167.000000  167.000000  167.000000     167.000000  \n",
              "mean     7.781832   70.555689    2.947964   12964.155689  \n",
              "std     10.570704    8.893172    1.513848   18328.704809  \n",
              "min     -4.210000   32.100000    1.150000     231.000000  \n",
              "25%      1.810000   65.300000    1.795000    1330.000000  \n",
              "50%      5.390000   73.100000    2.410000    4660.000000  \n",
              "75%     10.750000   76.800000    3.880000   14050.000000  \n",
              "max    104.000000   82.800000    7.490000  105000.000000  "
            ],
            "text/html": [
              "\n",
              "  <div id=\"df-668af2aa-4ed4-45d4-bb1e-b0d2ed14cc1a\">\n",
              "    <div class=\"colab-df-container\">\n",
              "      <div>\n",
              "<style scoped>\n",
              "    .dataframe tbody tr th:only-of-type {\n",
              "        vertical-align: middle;\n",
              "    }\n",
              "\n",
              "    .dataframe tbody tr th {\n",
              "        vertical-align: top;\n",
              "    }\n",
              "\n",
              "    .dataframe thead th {\n",
              "        text-align: right;\n",
              "    }\n",
              "</style>\n",
              "<table border=\"1\" class=\"dataframe\">\n",
              "  <thead>\n",
              "    <tr style=\"text-align: right;\">\n",
              "      <th></th>\n",
              "      <th>child_mort</th>\n",
              "      <th>exports</th>\n",
              "      <th>health</th>\n",
              "      <th>imports</th>\n",
              "      <th>income</th>\n",
              "      <th>inflation</th>\n",
              "      <th>life_expec</th>\n",
              "      <th>total_fer</th>\n",
              "      <th>gdpp</th>\n",
              "    </tr>\n",
              "  </thead>\n",
              "  <tbody>\n",
              "    <tr>\n",
              "      <th>count</th>\n",
              "      <td>167.000000</td>\n",
              "      <td>167.000000</td>\n",
              "      <td>167.000000</td>\n",
              "      <td>167.000000</td>\n",
              "      <td>167.000000</td>\n",
              "      <td>167.000000</td>\n",
              "      <td>167.000000</td>\n",
              "      <td>167.000000</td>\n",
              "      <td>167.000000</td>\n",
              "    </tr>\n",
              "    <tr>\n",
              "      <th>mean</th>\n",
              "      <td>38.270060</td>\n",
              "      <td>41.108976</td>\n",
              "      <td>6.815689</td>\n",
              "      <td>46.890215</td>\n",
              "      <td>17144.688623</td>\n",
              "      <td>7.781832</td>\n",
              "      <td>70.555689</td>\n",
              "      <td>2.947964</td>\n",
              "      <td>12964.155689</td>\n",
              "    </tr>\n",
              "    <tr>\n",
              "      <th>std</th>\n",
              "      <td>40.328931</td>\n",
              "      <td>27.412010</td>\n",
              "      <td>2.746837</td>\n",
              "      <td>24.209589</td>\n",
              "      <td>19278.067698</td>\n",
              "      <td>10.570704</td>\n",
              "      <td>8.893172</td>\n",
              "      <td>1.513848</td>\n",
              "      <td>18328.704809</td>\n",
              "    </tr>\n",
              "    <tr>\n",
              "      <th>min</th>\n",
              "      <td>2.600000</td>\n",
              "      <td>0.109000</td>\n",
              "      <td>1.810000</td>\n",
              "      <td>0.065900</td>\n",
              "      <td>609.000000</td>\n",
              "      <td>-4.210000</td>\n",
              "      <td>32.100000</td>\n",
              "      <td>1.150000</td>\n",
              "      <td>231.000000</td>\n",
              "    </tr>\n",
              "    <tr>\n",
              "      <th>25%</th>\n",
              "      <td>8.250000</td>\n",
              "      <td>23.800000</td>\n",
              "      <td>4.920000</td>\n",
              "      <td>30.200000</td>\n",
              "      <td>3355.000000</td>\n",
              "      <td>1.810000</td>\n",
              "      <td>65.300000</td>\n",
              "      <td>1.795000</td>\n",
              "      <td>1330.000000</td>\n",
              "    </tr>\n",
              "    <tr>\n",
              "      <th>50%</th>\n",
              "      <td>19.300000</td>\n",
              "      <td>35.000000</td>\n",
              "      <td>6.320000</td>\n",
              "      <td>43.300000</td>\n",
              "      <td>9960.000000</td>\n",
              "      <td>5.390000</td>\n",
              "      <td>73.100000</td>\n",
              "      <td>2.410000</td>\n",
              "      <td>4660.000000</td>\n",
              "    </tr>\n",
              "    <tr>\n",
              "      <th>75%</th>\n",
              "      <td>62.100000</td>\n",
              "      <td>51.350000</td>\n",
              "      <td>8.600000</td>\n",
              "      <td>58.750000</td>\n",
              "      <td>22800.000000</td>\n",
              "      <td>10.750000</td>\n",
              "      <td>76.800000</td>\n",
              "      <td>3.880000</td>\n",
              "      <td>14050.000000</td>\n",
              "    </tr>\n",
              "    <tr>\n",
              "      <th>max</th>\n",
              "      <td>208.000000</td>\n",
              "      <td>200.000000</td>\n",
              "      <td>17.900000</td>\n",
              "      <td>174.000000</td>\n",
              "      <td>125000.000000</td>\n",
              "      <td>104.000000</td>\n",
              "      <td>82.800000</td>\n",
              "      <td>7.490000</td>\n",
              "      <td>105000.000000</td>\n",
              "    </tr>\n",
              "  </tbody>\n",
              "</table>\n",
              "</div>\n",
              "      <button class=\"colab-df-convert\" onclick=\"convertToInteractive('df-668af2aa-4ed4-45d4-bb1e-b0d2ed14cc1a')\"\n",
              "              title=\"Convert this dataframe to an interactive table.\"\n",
              "              style=\"display:none;\">\n",
              "        \n",
              "  <svg xmlns=\"http://www.w3.org/2000/svg\" height=\"24px\"viewBox=\"0 0 24 24\"\n",
              "       width=\"24px\">\n",
              "    <path d=\"M0 0h24v24H0V0z\" fill=\"none\"/>\n",
              "    <path d=\"M18.56 5.44l.94 2.06.94-2.06 2.06-.94-2.06-.94-.94-2.06-.94 2.06-2.06.94zm-11 1L8.5 8.5l.94-2.06 2.06-.94-2.06-.94L8.5 2.5l-.94 2.06-2.06.94zm10 10l.94 2.06.94-2.06 2.06-.94-2.06-.94-.94-2.06-.94 2.06-2.06.94z\"/><path d=\"M17.41 7.96l-1.37-1.37c-.4-.4-.92-.59-1.43-.59-.52 0-1.04.2-1.43.59L10.3 9.45l-7.72 7.72c-.78.78-.78 2.05 0 2.83L4 21.41c.39.39.9.59 1.41.59.51 0 1.02-.2 1.41-.59l7.78-7.78 2.81-2.81c.8-.78.8-2.07 0-2.86zM5.41 20L4 18.59l7.72-7.72 1.47 1.35L5.41 20z\"/>\n",
              "  </svg>\n",
              "      </button>\n",
              "      \n",
              "  <style>\n",
              "    .colab-df-container {\n",
              "      display:flex;\n",
              "      flex-wrap:wrap;\n",
              "      gap: 12px;\n",
              "    }\n",
              "\n",
              "    .colab-df-convert {\n",
              "      background-color: #E8F0FE;\n",
              "      border: none;\n",
              "      border-radius: 50%;\n",
              "      cursor: pointer;\n",
              "      display: none;\n",
              "      fill: #1967D2;\n",
              "      height: 32px;\n",
              "      padding: 0 0 0 0;\n",
              "      width: 32px;\n",
              "    }\n",
              "\n",
              "    .colab-df-convert:hover {\n",
              "      background-color: #E2EBFA;\n",
              "      box-shadow: 0px 1px 2px rgba(60, 64, 67, 0.3), 0px 1px 3px 1px rgba(60, 64, 67, 0.15);\n",
              "      fill: #174EA6;\n",
              "    }\n",
              "\n",
              "    [theme=dark] .colab-df-convert {\n",
              "      background-color: #3B4455;\n",
              "      fill: #D2E3FC;\n",
              "    }\n",
              "\n",
              "    [theme=dark] .colab-df-convert:hover {\n",
              "      background-color: #434B5C;\n",
              "      box-shadow: 0px 1px 3px 1px rgba(0, 0, 0, 0.15);\n",
              "      filter: drop-shadow(0px 1px 2px rgba(0, 0, 0, 0.3));\n",
              "      fill: #FFFFFF;\n",
              "    }\n",
              "  </style>\n",
              "\n",
              "      <script>\n",
              "        const buttonEl =\n",
              "          document.querySelector('#df-668af2aa-4ed4-45d4-bb1e-b0d2ed14cc1a button.colab-df-convert');\n",
              "        buttonEl.style.display =\n",
              "          google.colab.kernel.accessAllowed ? 'block' : 'none';\n",
              "\n",
              "        async function convertToInteractive(key) {\n",
              "          const element = document.querySelector('#df-668af2aa-4ed4-45d4-bb1e-b0d2ed14cc1a');\n",
              "          const dataTable =\n",
              "            await google.colab.kernel.invokeFunction('convertToInteractive',\n",
              "                                                     [key], {});\n",
              "          if (!dataTable) return;\n",
              "\n",
              "          const docLinkHtml = 'Like what you see? Visit the ' +\n",
              "            '<a target=\"_blank\" href=https://colab.research.google.com/notebooks/data_table.ipynb>data table notebook</a>'\n",
              "            + ' to learn more about interactive tables.';\n",
              "          element.innerHTML = '';\n",
              "          dataTable['output_type'] = 'display_data';\n",
              "          await google.colab.output.renderOutput(dataTable, element);\n",
              "          const docLink = document.createElement('div');\n",
              "          docLink.innerHTML = docLinkHtml;\n",
              "          element.appendChild(docLink);\n",
              "        }\n",
              "      </script>\n",
              "    </div>\n",
              "  </div>\n",
              "  "
            ]
          },
          "metadata": {},
          "execution_count": 4
        }
      ]
    },
    {
      "cell_type": "code",
      "source": [
        "tipe = data.dtypes.value_counts()\n",
        "tipe = tipe.plot.bar()\n",
        "tipe.set_title(\"Tipe Data\")\n",
        "tipe.plot()"
      ],
      "metadata": {
        "colab": {
          "base_uri": "https://localhost:8080/",
          "height": 323
        },
        "id": "COP54YIr94rr",
        "outputId": "8da6a7ff-762e-4d2b-80b4-818cb266a575"
      },
      "execution_count": null,
      "outputs": [
        {
          "output_type": "execute_result",
          "data": {
            "text/plain": [
              "[]"
            ]
          },
          "metadata": {},
          "execution_count": 5
        },
        {
          "output_type": "display_data",
          "data": {
            "text/plain": [
              "<Figure size 432x288 with 1 Axes>"
            ],
            "image/png": "[encoded data removed]"
          },
          "metadata": {
            "needs_background": "light"
          }
        }
      ]
    },
    {
      "cell_type": "code",
      "source": [
        "data"
      ],
      "metadata": {
        "colab": {
          "base_uri": "https://localhost:8080/",
          "height": 455
        },
        "id": "dZ9uEdbSmnt0",
        "outputId": "9deeb40d-41c3-41d0-9d35-5e4d3d33ef63"
      },
      "execution_count": null,
      "outputs": [
        {
          "output_type": "execute_result",
          "data": {
            "text/plain": [
              "                     child_mort  exports  health  imports  income  inflation  \\\n",
              "country                                                                        \n",
              "Afghanistan                90.2     10.0    7.58     44.9    1610       9.44   \n",
              "Albania                    16.6     28.0    6.55     48.6    9930       4.49   \n",
              "Algeria                    27.3     38.4    4.17     31.4   12900      16.10   \n",
              "Angola                    119.0     62.3    2.85     42.9    5900      22.40   \n",
              "Antigua and Barbuda        10.3     45.5    6.03     58.9   19100       1.44   \n",
              "...                         ...      ...     ...      ...     ...        ...   \n",
              "Vanuatu                    29.2     46.6    5.25     52.7    2950       2.62   \n",
              "Venezuela                  17.1     28.5    4.91     17.6   16500      45.90   \n",
              "Vietnam                    23.3     72.0    6.84     80.2    4490      12.10   \n",
              "Yemen                      56.3     30.0    5.18     34.4    4480      23.60   \n",
              "Zambia                     83.1     37.0    5.89     30.9    3280      14.00   \n",
              "\n",
              "                     life_expec  total_fer   gdpp  \n",
              "country                                            \n",
              "Afghanistan                56.2       5.82    553  \n",
              "Albania                    76.3       1.65   4090  \n",
              "Algeria                    76.5       2.89   4460  \n",
              "Angola                     60.1       6.16   3530  \n",
              "Antigua and Barbuda        76.8       2.13  12200  \n",
              "...                         ...        ...    ...  \n",
              "Vanuatu                    63.0       3.50   2970  \n",
              "Venezuela                  75.4       2.47  13500  \n",
              "Vietnam                    73.1       1.95   1310  \n",
              "Yemen                      67.5       4.67   1310  \n",
              "Zambia                     52.0       5.40   1460  \n",
              "\n",
              "[167 rows x 9 columns]"
            ],
            "text/html": [
              "\n",
              "  <div id=\"df-cf54046a-5d56-4eed-b964-84818a2cdc73\">\n",
              "    <div class=\"colab-df-container\">\n",
              "      <div>\n",
              "<style scoped>\n",
              "    .dataframe tbody tr th:only-of-type {\n",
              "        vertical-align: middle;\n",
              "    }\n",
              "\n",
              "    .dataframe tbody tr th {\n",
              "        vertical-align: top;\n",
              "    }\n",
              "\n",
              "    .dataframe thead th {\n",
              "        text-align: right;\n",
              "    }\n",
              "</style>\n",
              "<table border=\"1\" class=\"dataframe\">\n",
              "  <thead>\n",
              "    <tr style=\"text-align: right;\">\n",
              "      <th></th>\n",
              "      <th>child_mort</th>\n",
              "      <th>exports</th>\n",
              "      <th>health</th>\n",
              "      <th>imports</th>\n",
              "      <th>income</th>\n",
              "      <th>inflation</th>\n",
              "      <th>life_expec</th>\n",
              "      <th>total_fer</th>\n",
              "      <th>gdpp</th>\n",
              "    </tr>\n",
              "    <tr>\n",
              "      <th>country</th>\n",
              "      <th></th>\n",
              "      <th></th>\n",
              "      <th></th>\n",
              "      <th></th>\n",
              "      <th></th>\n",
              "      <th></th>\n",
              "      <th></th>\n",
              "      <th></th>\n",
              "      <th></th>\n",
              "    </tr>\n",
              "  </thead>\n",
              "  <tbody>\n",
              "    <tr>\n",
              "      <th>Afghanistan</th>\n",
              "      <td>90.2</td>\n",
              "      <td>10.0</td>\n",
              "      <td>7.58</td>\n",
              "      <td>44.9</td>\n",
              "      <td>1610</td>\n",
              "      <td>9.44</td>\n",
              "      <td>56.2</td>\n",
              "      <td>5.82</td>\n",
              "      <td>553</td>\n",
              "    </tr>\n",
              "    <tr>\n",
              "      <th>Albania</th>\n",
              "      <td>16.6</td>\n",
              "      <td>28.0</td>\n",
              "      <td>6.55</td>\n",
              "      <td>48.6</td>\n",
              "      <td>9930</td>\n",
              "      <td>4.49</td>\n",
              "      <td>76.3</td>\n",
              "      <td>1.65</td>\n",
              "      <td>4090</td>\n",
              "    </tr>\n",
              "    <tr>\n",
              "      <th>Algeria</th>\n",
              "      <td>27.3</td>\n",
              "      <td>38.4</td>\n",
              "      <td>4.17</td>\n",
              "      <td>31.4</td>\n",
              "      <td>12900</td>\n",
              "      <td>16.10</td>\n",
              "      <td>76.5</td>\n",
              "      <td>2.89</td>\n",
              "      <td>4460</td>\n",
              "    </tr>\n",
              "    <tr>\n",
              "      <th>Angola</th>\n",
              "      <td>119.0</td>\n",
              "      <td>62.3</td>\n",
              "      <td>2.85</td>\n",
              "      <td>42.9</td>\n",
              "      <td>5900</td>\n",
              "      <td>22.40</td>\n",
              "      <td>60.1</td>\n",
              "      <td>6.16</td>\n",
              "      <td>3530</td>\n",
              "    </tr>\n",
              "    <tr>\n",
              "      <th>Antigua and Barbuda</th>\n",
              "      <td>10.3</td>\n",
              "      <td>45.5</td>\n",
              "      <td>6.03</td>\n",
              "      <td>58.9</td>\n",
              "      <td>19100</td>\n",
              "      <td>1.44</td>\n",
              "      <td>76.8</td>\n",
              "      <td>2.13</td>\n",
              "      <td>12200</td>\n",
              "    </tr>\n",
              "    <tr>\n",
              "      <th>...</th>\n",
              "      <td>...</td>\n",
              "      <td>...</td>\n",
              "      <td>...</td>\n",
              "      <td>...</td>\n",
              "      <td>...</td>\n",
              "      <td>...</td>\n",
              "      <td>...</td>\n",
              "      <td>...</td>\n",
              "      <td>...</td>\n",
              "    </tr>\n",
              "    <tr>\n",
              "      <th>Vanuatu</th>\n",
              "      <td>29.2</td>\n",
              "      <td>46.6</td>\n",
              "      <td>5.25</td>\n",
              "      <td>52.7</td>\n",
              "      <td>2950</td>\n",
              "      <td>2.62</td>\n",
              "      <td>63.0</td>\n",
              "      <td>3.50</td>\n",
              "      <td>2970</td>\n",
              "    </tr>\n",
              "    <tr>\n",
              "      <th>Venezuela</th>\n",
              "      <td>17.1</td>\n",
              "      <td>28.5</td>\n",
              "      <td>4.91</td>\n",
              "      <td>17.6</td>\n",
              "      <td>16500</td>\n",
              "      <td>45.90</td>\n",
              "      <td>75.4</td>\n",
              "      <td>2.47</td>\n",
              "      <td>13500</td>\n",
              "    </tr>\n",
              "    <tr>\n",
              "      <th>Vietnam</th>\n",
              "      <td>23.3</td>\n",
              "      <td>72.0</td>\n",
              "      <td>6.84</td>\n",
              "      <td>80.2</td>\n",
              "      <td>4490</td>\n",
              "      <td>12.10</td>\n",
              "      <td>73.1</td>\n",
              "      <td>1.95</td>\n",
              "      <td>1310</td>\n",
              "    </tr>\n",
              "    <tr>\n",
              "      <th>Yemen</th>\n",
              "      <td>56.3</td>\n",
              "      <td>30.0</td>\n",
              "      <td>5.18</td>\n",
              "      <td>34.4</td>\n",
              "      <td>4480</td>\n",
              "      <td>23.60</td>\n",
              "      <td>67.5</td>\n",
              "      <td>4.67</td>\n",
              "      <td>1310</td>\n",
              "    </tr>\n",
              "    <tr>\n",
              "      <th>Zambia</th>\n",
              "      <td>83.1</td>\n",
              "      <td>37.0</td>\n",
              "      <td>5.89</td>\n",
              "      <td>30.9</td>\n",
              "      <td>3280</td>\n",
              "      <td>14.00</td>\n",
              "      <td>52.0</td>\n",
              "      <td>5.40</td>\n",
              "      <td>1460</td>\n",
              "    </tr>\n",
              "  </tbody>\n",
              "</table>\n",
              "<p>167 rows × 9 columns</p>\n",
              "</div>\n",
              "      <button class=\"colab-df-convert\" onclick=\"convertToInteractive('df-cf54046a-5d56-4eed-b964-84818a2cdc73')\"\n",
              "              title=\"Convert this dataframe to an interactive table.\"\n",
              "              style=\"display:none;\">\n",
              "        \n",
              "  <svg xmlns=\"http://www.w3.org/2000/svg\" height=\"24px\"viewBox=\"0 0 24 24\"\n",
              "       width=\"24px\">\n",
              "    <path d=\"M0 0h24v24H0V0z\" fill=\"none\"/>\n",
              "    <path d=\"M18.56 5.44l.94 2.06.94-2.06 2.06-.94-2.06-.94-.94-2.06-.94 2.06-2.06.94zm-11 1L8.5 8.5l.94-2.06 2.06-.94-2.06-.94L8.5 2.5l-.94 2.06-2.06.94zm10 10l.94 2.06.94-2.06 2.06-.94-2.06-.94-.94-2.06-.94 2.06-2.06.94z\"/><path d=\"M17.41 7.96l-1.37-1.37c-.4-.4-.92-.59-1.43-.59-.52 0-1.04.2-1.43.59L10.3 9.45l-7.72 7.72c-.78.78-.78 2.05 0 2.83L4 21.41c.39.39.9.59 1.41.59.51 0 1.02-.2 1.41-.59l7.78-7.78 2.81-2.81c.8-.78.8-2.07 0-2.86zM5.41 20L4 18.59l7.72-7.72 1.47 1.35L5.41 20z\"/>\n",
              "  </svg>\n",
              "      </button>\n",
              "      \n",
              "  <style>\n",
              "    .colab-df-container {\n",
              "      display:flex;\n",
              "      flex-wrap:wrap;\n",
              "      gap: 12px;\n",
              "    }\n",
              "\n",
              "    .colab-df-convert {\n",
              "      background-color: #E8F0FE;\n",
              "      border: none;\n",
              "      border-radius: 50%;\n",
              "      cursor: pointer;\n",
              "      display: none;\n",
              "      fill: #1967D2;\n",
              "      height: 32px;\n",
              "      padding: 0 0 0 0;\n",
              "      width: 32px;\n",
              "    }\n",
              "\n",
              "    .colab-df-convert:hover {\n",
              "      background-color: #E2EBFA;\n",
              "      box-shadow: 0px 1px 2px rgba(60, 64, 67, 0.3), 0px 1px 3px 1px rgba(60, 64, 67, 0.15);\n",
              "      fill: #174EA6;\n",
              "    }\n",
              "\n",
              "    [theme=dark] .colab-df-convert {\n",
              "      background-color: #3B4455;\n",
              "      fill: #D2E3FC;\n",
              "    }\n",
              "\n",
              "    [theme=dark] .colab-df-convert:hover {\n",
              "      background-color: #434B5C;\n",
              "      box-shadow: 0px 1px 3px 1px rgba(0, 0, 0, 0.15);\n",
              "      filter: drop-shadow(0px 1px 2px rgba(0, 0, 0, 0.3));\n",
              "      fill: #FFFFFF;\n",
              "    }\n",
              "  </style>\n",
              "\n",
              "      <script>\n",
              "        const buttonEl =\n",
              "          document.querySelector('#df-cf54046a-5d56-4eed-b964-84818a2cdc73 button.colab-df-convert');\n",
              "        buttonEl.style.display =\n",
              "          google.colab.kernel.accessAllowed ? 'block' : 'none';\n",
              "\n",
              "        async function convertToInteractive(key) {\n",
              "          const element = document.querySelector('#df-cf54046a-5d56-4eed-b964-84818a2cdc73');\n",
              "          const dataTable =\n",
              "            await google.colab.kernel.invokeFunction('convertToInteractive',\n",
              "                                                     [key], {});\n",
              "          if (!dataTable) return;\n",
              "\n",
              "          const docLinkHtml = 'Like what you see? Visit the ' +\n",
              "            '<a target=\"_blank\" href=https://colab.research.google.com/notebooks/data_table.ipynb>data table notebook</a>'\n",
              "            + ' to learn more about interactive tables.';\n",
              "          element.innerHTML = '';\n",
              "          dataTable['output_type'] = 'display_data';\n",
              "          await google.colab.output.renderOutput(dataTable, element);\n",
              "          const docLink = document.createElement('div');\n",
              "          docLink.innerHTML = docLinkHtml;\n",
              "          element.appendChild(docLink);\n",
              "        }\n",
              "      </script>\n",
              "    </div>\n",
              "  </div>\n",
              "  "
            ]
          },
          "metadata": {},
          "execution_count": 6
        }
      ]
    },
    {
      "cell_type": "code",
      "source": [
        "#membuat heatmap/korelasi\n",
        "corr = data.corr()\n",
        "top_corr_features = corr.index\n",
        "plt.figure(figsize = (10,10))\n",
        "plt.suptitle(\"Heatmap\")\n",
        "\n",
        "#plot heat map\n",
        "data1 = sns.heatmap(data[top_corr_features].corr(), annot=True)"
      ],
      "metadata": {
        "colab": {
          "base_uri": "https://localhost:8080/",
          "height": 664
        },
        "id": "wf_C0hN0EP6i",
        "outputId": "80755849-b15c-47bf-f92f-7630e3d71734"
      },
      "execution_count": null,
      "outputs": [
        {
          "output_type": "display_data",
          "data": {
            "text/plain": [
              "<Figure size 720x720 with 2 Axes>"
            ],
            "image/png": "[encoded data removed]"
          },
          "metadata": {
            "needs_background": "light"
          }
        }
      ]
    },
    {
      "cell_type": "code",
      "source": [
        "data12 = data[['exports','imports','child_mort','life_expec','total_fer']]\n",
        "print(data12)"
      ],
      "metadata": {
        "colab": {
          "base_uri": "https://localhost:8080/"
        },
        "id": "_pdSUTqtA7lP",
        "outputId": "6ea9faa0-3c18-4ed1-d892-489fdfd304c2"
      },
      "execution_count": null,
      "outputs": [
        {
          "output_type": "stream",
          "name": "stdout",
          "text": [
            "                     exports  imports  child_mort  life_expec  total_fer\n",
            "country                                                                 \n",
            "Afghanistan             10.0     44.9        90.2        56.2       5.82\n",
            "Albania                 28.0     48.6        16.6        76.3       1.65\n",
            "Algeria                 38.4     31.4        27.3        76.5       2.89\n",
            "Angola                  62.3     42.9       119.0        60.1       6.16\n",
            "Antigua and Barbuda     45.5     58.9        10.3        76.8       2.13\n",
            "...                      ...      ...         ...         ...        ...\n",
            "Vanuatu                 46.6     52.7        29.2        63.0       3.50\n",
            "Venezuela               28.5     17.6        17.1        75.4       2.47\n",
            "Vietnam                 72.0     80.2        23.3        73.1       1.95\n",
            "Yemen                   30.0     34.4        56.3        67.5       4.67\n",
            "Zambia                  37.0     30.9        83.1        52.0       5.40\n",
            "\n",
            "[167 rows x 5 columns]\n"
          ]
        }
      ]
    },
    {
      "cell_type": "code",
      "source": [
        "data12.isna().sum()"
      ],
      "metadata": {
        "colab": {
          "base_uri": "https://localhost:8080/"
        },
        "id": "4B9nNlctCe81",
        "outputId": "5e9a4a68-bd82-43c8-b45a-43a8da50f065"
      },
      "execution_count": null,
      "outputs": [
        {
          "output_type": "execute_result",
          "data": {
            "text/plain": [
              "exports       0\n",
              "imports       0\n",
              "child_mort    0\n",
              "life_expec    0\n",
              "total_fer     0\n",
              "dtype: int64"
            ]
          },
          "metadata": {},
          "execution_count": 9
        }
      ]
    },
    {
      "cell_type": "code",
      "source": [
        "#mengecek null -> tidak ada data yang null\n",
        "data12.isnull().sum()"
      ],
      "metadata": {
        "colab": {
          "base_uri": "https://localhost:8080/"
        },
        "id": "UwWDnr3GDZO9",
        "outputId": "0d6fd8fb-d134-4b85-fb7b-d5b0f0af5acd"
      },
      "execution_count": null,
      "outputs": [
        {
          "output_type": "execute_result",
          "data": {
            "text/plain": [
              "exports       0\n",
              "imports       0\n",
              "child_mort    0\n",
              "life_expec    0\n",
              "total_fer     0\n",
              "dtype: int64"
            ]
          },
          "metadata": {},
          "execution_count": 10
        }
      ]
    },
    {
      "cell_type": "code",
      "source": [
        "data12.dropna().sum()"
      ],
      "metadata": {
        "colab": {
          "base_uri": "https://localhost:8080/"
        },
        "id": "60kytylK_KfK",
        "outputId": "b9019b36-75e5-40d0-bae2-3f325e3f838b"
      },
      "execution_count": null,
      "outputs": [
        {
          "output_type": "execute_result",
          "data": {
            "text/plain": [
              "exports        6603.7740\n",
              "imports        7658.9659\n",
              "child_mort     6295.6000\n",
              "life_expec    11800.8500\n",
              "total_fer       491.8275\n",
              "dtype: float64"
            ]
          },
          "metadata": {},
          "execution_count": 25
        }
      ]
    },
    {
      "cell_type": "code",
      "source": [
        "#mengecek data duplikat -> tidak ada data yang duplikat\n",
        "data12.duplicated().sum()"
      ],
      "metadata": {
        "colab": {
          "base_uri": "https://localhost:8080/"
        },
        "id": "A7FUIezfEHIT",
        "outputId": "5d4e9314-65da-4c7d-fe4f-cecc8d7fc35c"
      },
      "execution_count": null,
      "outputs": [
        {
          "output_type": "execute_result",
          "data": {
            "text/plain": [
              "0"
            ]
          },
          "metadata": {},
          "execution_count": 12
        }
      ]
    },
    {
      "cell_type": "code",
      "source": [
        "#mengecek outliers\n",
        "cont=data12.dtypes[(data12.dtypes!='object')].index #assign data12 per index\n",
        "plt.figure(figsize=(10,7)) #bikin plot\n",
        "data12[cont].boxplot(vert=0) #bikin bloxpot nya\n",
        "plt.title('Outliers',fontsize=16)\n",
        "plt.show()"
      ],
      "metadata": {
        "colab": {
          "base_uri": "https://localhost:8080/",
          "height": 446
        },
        "id": "1DujG3TLElCS",
        "outputId": "572c5fe2-e852-45ba-9333-827812dfa5a1"
      },
      "execution_count": null,
      "outputs": [
        {
          "output_type": "display_data",
          "data": {
            "text/plain": [
              "<Figure size 720x504 with 1 Axes>"
            ],
            "image/png": "[encoded data removed]"
          },
          "metadata": {
            "needs_background": "light"
          }
        }
      ]
    },
    {
      "cell_type": "code",
      "source": [
        "'''#menghitung jarak interquartile\n",
        "\n",
        "def interquartile(data,x):\n",
        "  q1 = (data[x]).quantile(0.25)\n",
        "  q3 = (data[x]).quantile(0.75) \n",
        "  iqr = q3 - q1\n",
        "  maximum = q3 + (1.5 *iqr)\n",
        "  minimum = q1 - (1.5 *iqr)\n",
        "  return maximum,minimum'''"
      ],
      "metadata": {
        "id": "12HJSbeSFBh7",
        "colab": {
          "base_uri": "https://localhost:8080/",
          "height": 35
        },
        "outputId": "6c4be74c-9ed6-4013-c66e-80781b3bd0c8"
      },
      "execution_count": null,
      "outputs": [
        {
          "output_type": "execute_result",
          "data": {
            "text/plain": [
              "'#menghitung jarak interquartile\\n\\ndef interquartile(data,x):\\n  q1 = (data[x]).quantile(0.25)\\n  q3 = (data[x]).quantile(0.75) \\n  iqr = q3 - q1\\n  maximum = q3 + (1.5 *iqr)\\n  minimum = q1 - (1.5 *iqr)\\n  return maximum,minimum'"
            ],
            "application/vnd.google.colaboratory.intrinsic+json": {
              "type": "string"
            }
          },
          "metadata": {},
          "execution_count": 14
        }
      ]
    },
    {
      "cell_type": "code",
      "source": [
        "#menghitung jarak interquartile\n",
        "def interquartile(col):\n",
        "    sorted(col)\n",
        "    Q1,Q3=np.percentile(col,[25,75])\n",
        "    IQR=Q3-Q1\n",
        "    lower_range= Q1-(1.5 * IQR)\n",
        "    upper_range= Q3+(1.5 * IQR)\n",
        "    return lower_range, upper_range"
      ],
      "metadata": {
        "id": "U4EiGqGy4hfR"
      },
      "execution_count": null,
      "outputs": []
    },
    {
      "cell_type": "code",
      "source": [
        "for column in data12[cont].columns:\n",
        "    print(column)\n",
        "    lr,ur=interquartile(data12[column])\n",
        "    data12[column]=np.where(data12[column]>ur,ur,data12[column])\n",
        "    data12[column]=np.where(data12[column]<lr,lr,data12[column])"
      ],
      "metadata": {
        "colab": {
          "base_uri": "https://localhost:8080/"
        },
        "id": "AnJP3Qw94kY2",
        "outputId": "b7ebdb47-3731-46d7-8d3d-7232c5f94bca"
      },
      "execution_count": null,
      "outputs": [
        {
          "output_type": "stream",
          "name": "stdout",
          "text": [
            "exports\n",
            "imports\n",
            "child_mort\n",
            "life_expec\n",
            "total_fer\n"
          ]
        },
        {
          "output_type": "stream",
          "name": "stderr",
          "text": [
            "<ipython-input-16-fd0ee78f7672>:4: SettingWithCopyWarning: \n",
            "A value is trying to be set on a copy of a slice from a DataFrame.\n",
            "Try using .loc[row_indexer,col_indexer] = value instead\n",
            "\n",
            "See the caveats in the documentation: https://pandas.pydata.org/pandas-docs/stable/user_guide/indexing.html#returning-a-view-versus-a-copy\n",
            "  data12[column]=np.where(data12[column]>ur,ur,data12[column])\n",
            "<ipython-input-16-fd0ee78f7672>:5: SettingWithCopyWarning: \n",
            "A value is trying to be set on a copy of a slice from a DataFrame.\n",
            "Try using .loc[row_indexer,col_indexer] = value instead\n",
            "\n",
            "See the caveats in the documentation: https://pandas.pydata.org/pandas-docs/stable/user_guide/indexing.html#returning-a-view-versus-a-copy\n",
            "  data12[column]=np.where(data12[column]<lr,lr,data12[column])\n"
          ]
        }
      ]
    },
    {
      "cell_type": "code",
      "source": [
        "\"\"\"menggantikan value outliners dengan hasil dari perhitungan jarak interquartile\n",
        "\n",
        "def sub_outliners(data,x,maximum,minimum):\n",
        "  more_than = (data[x] > maximum)\n",
        "  less_than = (data[x] < minimum)\n",
        "  print('more_than: ',more_than,' | less_than: ',less_than)\n",
        "  data[x] = data[x].mask(more_than, maximum,axis=0)\n",
        "  data[x] = data[x].mask(less_than, minimum,axis=0)\n",
        "  return data\"\"\""
      ],
      "metadata": {
        "id": "4D0rOLoSGkuc",
        "colab": {
          "base_uri": "https://localhost:8080/",
          "height": 53
        },
        "outputId": "1674e4c9-84e7-4b89-8edc-535b49a4143a"
      },
      "execution_count": null,
      "outputs": [
        {
          "output_type": "execute_result",
          "data": {
            "text/plain": [
              "\"menggantikan value outliners dengan hasil dari perhitungan jarak interquartile\\n\\ndef sub_outliners(data,x,maximum,minimum):\\n  more_than = (data[x] > maximum)\\n  less_than = (data[x] < minimum)\\n  print('more_than: ',more_than,' | less_than: ',less_than)\\n  data[x] = data[x].mask(more_than, maximum,axis=0)\\n  data[x] = data[x].mask(less_than, minimum,axis=0)\\n  return data\""
            ],
            "application/vnd.google.colaboratory.intrinsic+json": {
              "type": "string"
            }
          },
          "metadata": {},
          "execution_count": 17
        }
      ]
    },
    {
      "cell_type": "code",
      "source": [
        "'''maximum,minimum = interquartile(data,'gdpp')\n",
        "data = sub_outliners(data,'gdpp',maximum,minimum)\n",
        "\n",
        "maximum,minimum = interquartile(data,'income')\n",
        "data = sub_outliners(data,'income',maximum,minimum)'''"
      ],
      "metadata": {
        "colab": {
          "base_uri": "https://localhost:8080/",
          "height": 35
        },
        "id": "Nr1N43uUGsQP",
        "outputId": "99778d0a-89da-4934-9a41-0c50c4ffb306"
      },
      "execution_count": null,
      "outputs": [
        {
          "output_type": "execute_result",
          "data": {
            "text/plain": [
              "\"maximum,minimum = interquartile(data,'gdpp')\\ndata = sub_outliners(data,'gdpp',maximum,minimum)\\n\\nmaximum,minimum = interquartile(data,'income')\\ndata = sub_outliners(data,'income',maximum,minimum)\""
            ],
            "application/vnd.google.colaboratory.intrinsic+json": {
              "type": "string"
            }
          },
          "metadata": {},
          "execution_count": 18
        }
      ]
    },
    {
      "cell_type": "code",
      "source": [
        "#mengecek outliers setelah handling outliers\n",
        "cont=data12.dtypes[(data12.dtypes!='object')].index #assign data12 per index\n",
        "plt.figure(figsize=(10,7)) #bikin plot\n",
        "data12[cont].boxplot(vert=0) #bikin bloxpot nya\n",
        "plt.title('Outliers',fontsize=16)\n",
        "plt.show()"
      ],
      "metadata": {
        "colab": {
          "base_uri": "https://localhost:8080/",
          "height": 446
        },
        "id": "PXtWIGUGG4lm",
        "outputId": "29326622-881f-43ca-dc86-040072fbd6e8"
      },
      "execution_count": null,
      "outputs": [
        {
          "output_type": "display_data",
          "data": {
            "text/plain": [
              "<Figure size 720x504 with 1 Axes>"
            ],
            "image/png": "[encoded data removed]"
          },
          "metadata": {
            "needs_background": "light"
          }
        }
      ]
    },
    {
      "cell_type": "code",
      "source": [
        "#Scalling\n",
        "#untuk penyeragaman skala antar atribut (Normalisasi)\n",
        "scale = StandardScaler()\n",
        "scale.fit(data12)\n",
        "temp =scale.transform(data12)\n",
        "data_baru = pd.DataFrame(temp, index=data12.index, columns=data12.columns)\n",
        "\n",
        "data_baru\n"
      ],
      "metadata": {
        "colab": {
          "base_uri": "https://localhost:8080/",
          "height": 455
        },
        "id": "mQrtG75UHi1T",
        "outputId": "71b1ea27-2a20-4e7f-c6f9-4a9e0a4bc781"
      },
      "execution_count": null,
      "outputs": [
        {
          "output_type": "execute_result",
          "data": {
            "text/plain": [
              "                      exports   imports  child_mort  life_expec  total_fer\n",
              "country                                                                   \n",
              "Afghanistan         -1.391107 -0.047444    1.369802   -1.702225   1.915276\n",
              "Albania             -0.543547  0.135021   -0.550464    0.663321  -0.862779\n",
              "Algeria             -0.053846 -0.713196   -0.271295    0.686859  -0.036691\n",
              "Angola               1.071524 -0.146074    2.121210   -1.243238   2.141784\n",
              "Antigua and Barbuda  0.280469  0.642965   -0.714835    0.722166  -0.543003\n",
              "...                       ...       ...         ...         ...        ...\n",
              "Vanuatu              0.332264  0.337212   -0.221723   -0.901941   0.369691\n",
              "Venezuela           -0.520004 -1.393742   -0.537419    0.557401  -0.316495\n",
              "Vietnam              1.528265  1.693373   -0.375657    0.286717  -0.662919\n",
              "Yemen               -0.449374 -0.565251    0.485332   -0.372341   1.149146\n",
              "Zambia              -0.119768 -0.737854    1.184559   -2.196518   1.635472\n",
              "\n",
              "[167 rows x 5 columns]"
            ],
            "text/html": [
              "\n",
              "  <div id=\"df-18ed5124-ac47-4eee-a036-d0a54ce42867\">\n",
              "    <div class=\"colab-df-container\">\n",
              "      <div>\n",
              "<style scoped>\n",
              "    .dataframe tbody tr th:only-of-type {\n",
              "        vertical-align: middle;\n",
              "    }\n",
              "\n",
              "    .dataframe tbody tr th {\n",
              "        vertical-align: top;\n",
              "    }\n",
              "\n",
              "    .dataframe thead th {\n",
              "        text-align: right;\n",
              "    }\n",
              "</style>\n",
              "<table border=\"1\" class=\"dataframe\">\n",
              "  <thead>\n",
              "    <tr style=\"text-align: right;\">\n",
              "      <th></th>\n",
              "      <th>exports</th>\n",
              "      <th>imports</th>\n",
              "      <th>child_mort</th>\n",
              "      <th>life_expec</th>\n",
              "      <th>total_fer</th>\n",
              "    </tr>\n",
              "    <tr>\n",
              "      <th>country</th>\n",
              "      <th></th>\n",
              "      <th></th>\n",
              "      <th></th>\n",
              "      <th></th>\n",
              "      <th></th>\n",
              "    </tr>\n",
              "  </thead>\n",
              "  <tbody>\n",
              "    <tr>\n",
              "      <th>Afghanistan</th>\n",
              "      <td>-1.391107</td>\n",
              "      <td>-0.047444</td>\n",
              "      <td>1.369802</td>\n",
              "      <td>-1.702225</td>\n",
              "      <td>1.915276</td>\n",
              "    </tr>\n",
              "    <tr>\n",
              "      <th>Albania</th>\n",
              "      <td>-0.543547</td>\n",
              "      <td>0.135021</td>\n",
              "      <td>-0.550464</td>\n",
              "      <td>0.663321</td>\n",
              "      <td>-0.862779</td>\n",
              "    </tr>\n",
              "    <tr>\n",
              "      <th>Algeria</th>\n",
              "      <td>-0.053846</td>\n",
              "      <td>-0.713196</td>\n",
              "      <td>-0.271295</td>\n",
              "      <td>0.686859</td>\n",
              "      <td>-0.036691</td>\n",
              "    </tr>\n",
              "    <tr>\n",
              "      <th>Angola</th>\n",
              "      <td>1.071524</td>\n",
              "      <td>-0.146074</td>\n",
              "      <td>2.121210</td>\n",
              "      <td>-1.243238</td>\n",
              "      <td>2.141784</td>\n",
              "    </tr>\n",
              "    <tr>\n",
              "      <th>Antigua and Barbuda</th>\n",
              "      <td>0.280469</td>\n",
              "      <td>0.642965</td>\n",
              "      <td>-0.714835</td>\n",
              "      <td>0.722166</td>\n",
              "      <td>-0.543003</td>\n",
              "    </tr>\n",
              "    <tr>\n",
              "      <th>...</th>\n",
              "      <td>...</td>\n",
              "      <td>...</td>\n",
              "      <td>...</td>\n",
              "      <td>...</td>\n",
              "      <td>...</td>\n",
              "    </tr>\n",
              "    <tr>\n",
              "      <th>Vanuatu</th>\n",
              "      <td>0.332264</td>\n",
              "      <td>0.337212</td>\n",
              "      <td>-0.221723</td>\n",
              "      <td>-0.901941</td>\n",
              "      <td>0.369691</td>\n",
              "    </tr>\n",
              "    <tr>\n",
              "      <th>Venezuela</th>\n",
              "      <td>-0.520004</td>\n",
              "      <td>-1.393742</td>\n",
              "      <td>-0.537419</td>\n",
              "      <td>0.557401</td>\n",
              "      <td>-0.316495</td>\n",
              "    </tr>\n",
              "    <tr>\n",
              "      <th>Vietnam</th>\n",
              "      <td>1.528265</td>\n",
              "      <td>1.693373</td>\n",
              "      <td>-0.375657</td>\n",
              "      <td>0.286717</td>\n",
              "      <td>-0.662919</td>\n",
              "    </tr>\n",
              "    <tr>\n",
              "      <th>Yemen</th>\n",
              "      <td>-0.449374</td>\n",
              "      <td>-0.565251</td>\n",
              "      <td>0.485332</td>\n",
              "      <td>-0.372341</td>\n",
              "      <td>1.149146</td>\n",
              "    </tr>\n",
              "    <tr>\n",
              "      <th>Zambia</th>\n",
              "      <td>-0.119768</td>\n",
              "      <td>-0.737854</td>\n",
              "      <td>1.184559</td>\n",
              "      <td>-2.196518</td>\n",
              "      <td>1.635472</td>\n",
              "    </tr>\n",
              "  </tbody>\n",
              "</table>\n",
              "<p>167 rows × 5 columns</p>\n",
              "</div>\n",
              "      <button class=\"colab-df-convert\" onclick=\"convertToInteractive('df-18ed5124-ac47-4eee-a036-d0a54ce42867')\"\n",
              "              title=\"Convert this dataframe to an interactive table.\"\n",
              "              style=\"display:none;\">\n",
              "        \n",
              "  <svg xmlns=\"http://www.w3.org/2000/svg\" height=\"24px\"viewBox=\"0 0 24 24\"\n",
              "       width=\"24px\">\n",
              "    <path d=\"M0 0h24v24H0V0z\" fill=\"none\"/>\n",
              "    <path d=\"M18.56 5.44l.94 2.06.94-2.06 2.06-.94-2.06-.94-.94-2.06-.94 2.06-2.06.94zm-11 1L8.5 8.5l.94-2.06 2.06-.94-2.06-.94L8.5 2.5l-.94 2.06-2.06.94zm10 10l.94 2.06.94-2.06 2.06-.94-2.06-.94-.94-2.06-.94 2.06-2.06.94z\"/><path d=\"M17.41 7.96l-1.37-1.37c-.4-.4-.92-.59-1.43-.59-.52 0-1.04.2-1.43.59L10.3 9.45l-7.72 7.72c-.78.78-.78 2.05 0 2.83L4 21.41c.39.39.9.59 1.41.59.51 0 1.02-.2 1.41-.59l7.78-7.78 2.81-2.81c.8-.78.8-2.07 0-2.86zM5.41 20L4 18.59l7.72-7.72 1.47 1.35L5.41 20z\"/>\n",
              "  </svg>\n",
              "      </button>\n",
              "      \n",
              "  <style>\n",
              "    .colab-df-container {\n",
              "      display:flex;\n",
              "      flex-wrap:wrap;\n",
              "      gap: 12px;\n",
              "    }\n",
              "\n",
              "    .colab-df-convert {\n",
              "      background-color: #E8F0FE;\n",
              "      border: none;\n",
              "      border-radius: 50%;\n",
              "      cursor: pointer;\n",
              "      display: none;\n",
              "      fill: #1967D2;\n",
              "      height: 32px;\n",
              "      padding: 0 0 0 0;\n",
              "      width: 32px;\n",
              "    }\n",
              "\n",
              "    .colab-df-convert:hover {\n",
              "      background-color: #E2EBFA;\n",
              "      box-shadow: 0px 1px 2px rgba(60, 64, 67, 0.3), 0px 1px 3px 1px rgba(60, 64, 67, 0.15);\n",
              "      fill: #174EA6;\n",
              "    }\n",
              "\n",
              "    [theme=dark] .colab-df-convert {\n",
              "      background-color: #3B4455;\n",
              "      fill: #D2E3FC;\n",
              "    }\n",
              "\n",
              "    [theme=dark] .colab-df-convert:hover {\n",
              "      background-color: #434B5C;\n",
              "      box-shadow: 0px 1px 3px 1px rgba(0, 0, 0, 0.15);\n",
              "      filter: drop-shadow(0px 1px 2px rgba(0, 0, 0, 0.3));\n",
              "      fill: #FFFFFF;\n",
              "    }\n",
              "  </style>\n",
              "\n",
              "      <script>\n",
              "        const buttonEl =\n",
              "          document.querySelector('#df-18ed5124-ac47-4eee-a036-d0a54ce42867 button.colab-df-convert');\n",
              "        buttonEl.style.display =\n",
              "          google.colab.kernel.accessAllowed ? 'block' : 'none';\n",
              "\n",
              "        async function convertToInteractive(key) {\n",
              "          const element = document.querySelector('#df-18ed5124-ac47-4eee-a036-d0a54ce42867');\n",
              "          const dataTable =\n",
              "            await google.colab.kernel.invokeFunction('convertToInteractive',\n",
              "                                                     [key], {});\n",
              "          if (!dataTable) return;\n",
              "\n",
              "          const docLinkHtml = 'Like what you see? Visit the ' +\n",
              "            '<a target=\"_blank\" href=https://colab.research.google.com/notebooks/data_table.ipynb>data table notebook</a>'\n",
              "            + ' to learn more about interactive tables.';\n",
              "          element.innerHTML = '';\n",
              "          dataTable['output_type'] = 'display_data';\n",
              "          await google.colab.output.renderOutput(dataTable, element);\n",
              "          const docLink = document.createElement('div');\n",
              "          docLink.innerHTML = docLinkHtml;\n",
              "          element.appendChild(docLink);\n",
              "        }\n",
              "      </script>\n",
              "    </div>\n",
              "  </div>\n",
              "  "
            ]
          },
          "metadata": {},
          "execution_count": 20
        }
      ]
    },
    {
      "cell_type": "code",
      "source": [
        "#PCA\n",
        "#dekomposisi kolom dipakai, menampilkan penyebaran data\n",
        "test = PCA(n_components=2)\n",
        "data_cluster = test.fit_transform(data_baru)\n",
        "data_cluster = pd.DataFrame(data = data_cluster, columns = ['x', 'y'])\n",
        "data_cluster\n",
        "\n",
        "arrayScal = np.array(list(zip(data_cluster['x'], data_cluster['y'])))\n",
        "print(arrayScal)\n",
        "\n",
        "x=arrayScal[:,0]\n",
        "y=arrayScal[:,1]\n",
        "sns.scatterplot(x, y, s=5, color='grey')\n",
        "\n",
        "plt.scatter(data_cluster['x'], data_cluster['y'])\n",
        "plt.xlabel('x')\n",
        "plt.ylabel('y')"
      ],
      "metadata": {
        "id": "_QkLyyEVJ6qE",
        "colab": {
          "base_uri": "https://localhost:8080/",
          "height": 1000
        },
        "outputId": "66ac53a1-875f-48f0-e26e-461acafe7b44"
      },
      "execution_count": null,
      "outputs": [
        {
          "output_type": "stream",
          "name": "stdout",
          "text": [
            "[[ 3.13047778e+00  1.64852551e-01]\n",
            " [-9.51800577e-01 -6.34081488e-01]\n",
            " [-3.80755280e-01 -7.82445614e-01]\n",
            " [ 2.62466165e+00  1.59221561e+00]\n",
            " [-1.26753152e+00  2.24634010e-01]\n",
            " [-2.63990027e-01 -1.97278463e+00]\n",
            " [-5.89961029e-01 -8.49782988e-01]\n",
            " [-9.97572863e-01 -2.05220670e+00]\n",
            " [-1.81748696e+00 -2.32564121e-01]\n",
            " [-2.52786218e-01 -5.62959903e-01]\n",
            " [-8.29646358e-01 -5.35049602e-01]\n",
            " [-1.53595399e+00  6.13159913e-01]\n",
            " [ 5.47431634e-01 -1.51554460e+00]\n",
            " [-1.14522737e+00 -3.24274158e-01]\n",
            " [-1.31188360e+00  6.81844418e-01]\n",
            " [-2.26617409e+00  1.48748676e+00]\n",
            " [-7.94241775e-01  7.89149499e-01]\n",
            " [ 2.77407434e+00  1.51704969e-01]\n",
            " [-4.83874913e-01  8.94696182e-01]\n",
            " [ 2.37261682e-01 -3.26109374e-01]\n",
            " [-1.29260414e+00 -5.91097428e-01]\n",
            " [ 9.10793782e-01  7.74031459e-01]\n",
            " [-1.26407078e-01 -2.33928218e+00]\n",
            " [-1.45347640e+00 -3.28278104e-01]\n",
            " [-1.30171825e+00  1.66426199e-01]\n",
            " [ 3.40560458e+00 -5.09873799e-02]\n",
            " [ 3.31055171e+00 -4.82815198e-02]\n",
            " [ 4.77311244e-03  1.05117216e+00]\n",
            " [ 3.03462203e+00 -1.69411113e-01]\n",
            " [-1.28451996e+00 -1.44236310e+00]\n",
            " [-4.05523539e-01  2.45915507e-01]\n",
            " [ 4.30507247e+00 -1.53693362e-02]\n",
            " [ 3.73346459e+00  1.18736383e+00]\n",
            " [-1.15329834e+00 -1.08734385e+00]\n",
            " [-6.23887432e-01 -1.57815216e+00]\n",
            " [-3.38892687e-01 -2.02801021e+00]\n",
            " [ 1.96437810e+00  1.71440723e-01]\n",
            " [ 3.14786296e+00  1.35685204e+00]\n",
            " [ 9.26713416e-01  2.22531501e+00]\n",
            " [-1.16008760e+00 -1.10398546e+00]\n",
            " [ 2.60722952e+00  1.25880284e+00]\n",
            " [-1.20295788e+00 -8.15192954e-01]\n",
            " [-1.86675251e+00  9.87048806e-02]\n",
            " [-1.98506067e+00  8.06506043e-01]\n",
            " [-1.55661274e+00 -3.29017044e-01]\n",
            " [-3.67033750e-02 -1.08571167e+00]\n",
            " [-3.50958169e-01 -1.07691690e+00]\n",
            " [ 4.29924086e-01 -1.20432552e+00]\n",
            " [-5.24565552e-01 -5.88889633e-01]\n",
            " [ 1.61470847e+00  2.64320801e+00]\n",
            " [ 2.13537945e+00 -1.22744909e+00]\n",
            " [-1.99637989e+00  1.33827522e+00]\n",
            " [-4.08268214e-01  1.21078533e+00]\n",
            " [-1.36364508e+00 -8.96129012e-01]\n",
            " [-1.10718885e+00 -1.57493887e+00]\n",
            " [ 1.20796728e+00  1.20509628e-02]\n",
            " [ 2.18209612e+00  1.27762342e-01]\n",
            " [-7.89108266e-01 -1.57615402e-01]\n",
            " [-1.57637011e+00 -8.59041402e-01]\n",
            " [ 1.67658058e+00  3.07768803e-01]\n",
            " [-1.19472649e+00 -1.64373011e+00]\n",
            " [-4.03716978e-01 -5.23587758e-01]\n",
            " [ 3.81884612e-01 -7.02715876e-01]\n",
            " [ 2.81697073e+00  6.46260604e-01]\n",
            " [ 3.24495363e+00 -9.92226348e-04]\n",
            " [-2.69327552e-01  1.64145105e+00]\n",
            " [ 3.24432269e+00  1.24586607e+00]\n",
            " [-2.22335464e+00  1.80203770e+00]\n",
            " [-1.65736299e+00 -3.04644281e-01]\n",
            " [ 8.85718088e-01 -9.42724148e-01]\n",
            " [ 2.65675933e-01 -1.31441206e+00]\n",
            " [-4.47766854e-01 -1.70569299e+00]\n",
            " [ 8.80791941e-01 -1.48154654e-01]\n",
            " [-2.58681645e+00  2.36678268e+00]\n",
            " [-9.17653943e-01 -1.06312855e+00]\n",
            " [-1.29759990e+00 -1.72497700e+00]\n",
            " [-7.08055393e-01 -3.94567200e-01]\n",
            " [-1.12126002e+00 -2.53886743e+00]\n",
            " [-6.42358134e-01  9.19710256e-01]\n",
            " [-1.46209428e-01 -4.99184888e-01]\n",
            " [ 1.74287405e+00 -4.44962388e-01]\n",
            " [ 1.39531708e+00  1.02502777e+00]\n",
            " [-1.39597476e+00 -2.50585878e-01]\n",
            " [-4.34967611e-01  1.66275521e+00]\n",
            " [ 1.11891940e+00  4.39964892e-01]\n",
            " [-1.44334165e+00  3.23308732e-01]\n",
            " [-1.49626822e+00 -1.41489033e-01]\n",
            " [ 1.91601558e+00  2.99724975e+00]\n",
            " [ 1.98518263e+00  1.90244855e+00]\n",
            " [-1.19970755e+00  2.53888890e-01]\n",
            " [-1.71296204e+00  1.08155779e+00]\n",
            " [-2.94506755e+00  2.82918293e+00]\n",
            " [-1.23189151e+00  4.88149411e-02]\n",
            " [ 1.79661165e+00  9.64430388e-02]\n",
            " [ 3.03333153e+00  1.91592827e-01]\n",
            " [-1.90782096e+00  1.85404678e+00]\n",
            " [-1.81739378e+00  1.33200087e+00]\n",
            " [ 3.74413381e+00  3.78665293e-01]\n",
            " [-2.92204377e+00  2.84827448e+00]\n",
            " [ 1.41765883e+00  1.45472056e+00]\n",
            " [-1.30820162e+00  5.60798471e-01]\n",
            " [ 4.77409494e-01  1.05048197e+00]\n",
            " [-1.11306059e+00  9.05530031e-01]\n",
            " [-2.08154496e-01  6.26998370e-01]\n",
            " [-1.32171250e+00  8.25950061e-02]\n",
            " [-2.23715637e-01 -4.49994916e-01]\n",
            " [ 2.95003184e+00  8.75770217e-01]\n",
            " [ 1.45333762e+00 -2.54454372e+00]\n",
            " [ 9.74899553e-01  1.28146586e+00]\n",
            " [ 7.11929027e-01 -1.08409362e+00]\n",
            " [-2.16662433e+00  9.38469335e-01]\n",
            " [-1.05196261e+00 -1.44220033e+00]\n",
            " [ 3.63375004e+00  8.69201213e-01]\n",
            " [ 3.44888683e+00 -3.34126535e-01]\n",
            " [-1.33039606e+00 -1.20889752e+00]\n",
            " [-1.08973312e+00  2.54889001e-01]\n",
            " [ 2.07192070e+00 -1.13812587e+00]\n",
            " [-1.57485504e+00  1.66350048e+00]\n",
            " [-7.75382919e-01  4.36670417e-01]\n",
            " [-4.58028062e-01 -1.46211133e+00]\n",
            " [ 2.51796485e-01 -4.19109251e-01]\n",
            " [-1.32003970e+00 -6.15777782e-01]\n",
            " [-1.37117023e+00 -1.18086366e+00]\n",
            " [-1.42389414e+00 -6.72000805e-01]\n",
            " [-8.71146276e-01 -8.16046397e-01]\n",
            " [-4.12784401e-01 -1.42347155e+00]\n",
            " [ 1.86987489e+00 -8.43787069e-01]\n",
            " [ 2.71174214e-01  1.57056706e-02]\n",
            " [-6.25294567e-01 -4.25867892e-01]\n",
            " [ 1.85453165e+00 -2.38344264e-02]\n",
            " [-1.14139668e+00 -5.50189403e-01]\n",
            " [-2.10194620e+00  3.18065006e+00]\n",
            " [ 3.72523287e+00  2.03316410e-01]\n",
            " [-3.20129307e+00  2.73399440e+00]\n",
            " [-2.13228055e+00  1.69361313e+00]\n",
            " [-2.06299388e+00  7.06501833e-01]\n",
            " [ 4.05996454e-01  1.90305861e+00]\n",
            " [ 1.44396518e+00 -4.41957220e-01]\n",
            " [-1.82632896e+00 -3.54998231e-01]\n",
            " [-1.34579915e+00 -1.74814890e+00]\n",
            " [-3.92427643e-01 -1.55856397e+00]\n",
            " [-5.13673378e-01 -1.51762690e-01]\n",
            " [ 2.07773219e+00 -1.03767871e+00]\n",
            " [-4.59292701e-01 -1.76919247e-02]\n",
            " [-1.56331939e+00 -6.03622761e-01]\n",
            " [-2.13801514e+00  2.73487852e-01]\n",
            " [ 7.48120284e-01 -4.93963932e-02]\n",
            " [ 2.54400481e+00 -3.91620451e-01]\n",
            " [-1.73996323e+00  8.32564984e-01]\n",
            " [ 2.23863948e+00 -1.19606969e+00]\n",
            " [ 2.05942159e+00  1.25971021e+00]\n",
            " [ 3.94026152e-01 -1.93927601e-01]\n",
            " [-1.21453467e+00  2.65357510e-01]\n",
            " [-5.31433568e-01 -1.66230694e+00]\n",
            " [-8.49508053e-02  1.14786488e+00]\n",
            " [ 3.11273799e+00 -2.53868580e-01]\n",
            " [-1.05452341e+00  1.06334977e-01]\n",
            " [-1.91047779e+00  1.24818188e+00]\n",
            " [-1.11013579e+00 -1.41415747e+00]\n",
            " [-5.98033303e-01 -2.32889588e+00]\n",
            " [-6.58708557e-01 -1.50082027e+00]\n",
            " [ 1.56790827e-01 -8.60105036e-01]\n",
            " [ 3.74942172e-01  6.86506568e-01]\n",
            " [-3.30905138e-01 -1.61601768e+00]\n",
            " [-1.52104247e+00  1.87204191e+00]\n",
            " [ 1.32349240e+00 -2.95647978e-01]\n",
            " [ 2.84051697e+00  4.42871302e-01]]\n"
          ]
        },
        {
          "output_type": "stream",
          "name": "stderr",
          "text": [
            "/usr/local/lib/python3.8/dist-packages/seaborn/_decorators.py:36: FutureWarning: Pass the following variables as keyword args: x, y. From version 0.12, the only valid positional argument will be `data`, and passing other arguments without an explicit keyword will result in an error or misinterpretation.\n",
            "  warnings.warn(\n"
          ]
        },
        {
          "output_type": "execute_result",
          "data": {
            "text/plain": [
              "Text(0, 0.5, 'y')"
            ]
          },
          "metadata": {},
          "execution_count": 21
        },
        {
          "output_type": "display_data",
          "data": {
            "text/plain": [
              "<Figure size 432x288 with 1 Axes>"
            ],
            "image/png": "[encoded data removed]"
          },
          "metadata": {
            "needs_background": "light"
          }
        }
      ]
    },
    {
      "cell_type": "markdown",
      "source": [
        "## K-MEANS\n"
      ],
      "metadata": {
        "id": "NU3iKetIIf6R"
      }
    },
    {
      "cell_type": "code",
      "source": [
        "\"\"\"# PEMODELAN\"\"\"\n",
        "\n",
        "#menghitung jarak euclidean\n",
        "def euclid(a, b, ax=1):\n",
        "    kurang = a-b\n",
        "    result_euclid = np.linalg.norm(kurang, axis=ax)\n",
        "    return result_euclid\n",
        "\n",
        "#menampilkan nilai centroid\n",
        "k = 3 #banyaknya centroid\n",
        "def centro(arrayScal,k):\n",
        "  min = np.min(arrayScal)\n",
        "  max = np.max(arrayScal)\n",
        "\n",
        "#untuk mendapatkan nilai centroid\n",
        "  centro1 = np.random.randint(min, max, size=k)\n",
        "  centro2 = np.random.randint(min, max, size=k)\n",
        "  centroid = np.array(list(zip(centro1, centro2)))\n",
        "  return centroid\n",
        "\n",
        "#mengambil panjang dari arrayscal\n",
        "arrCluster = np.zeros(len(arrayScal))\n",
        "#mendapatkan nilai centroid\n",
        "centroid = centro(arrayScal,k)\n",
        "#array centroid dengan cara mengambil shaping dari nilai centroid\n",
        "arrC = np.zeros(centroid.shape)\n",
        "#list kosong untuk variable baru\n",
        "titik = []\n",
        "temp = []\n",
        "\n",
        "#memanggil fungsi euclid\n",
        "mark = euclid(centroid, arrC, None)\n",
        "\n",
        "while mark != 0:\n",
        "    for i in range(len(arrayScal)):\n",
        "        jarak = euclid(arrayScal[i], centroid) \n",
        "        cluster = np.argmin(jarak) \n",
        "        arrCluster[i] = cluster \n",
        "    arrC = deepcopy(centroid) #memanggil nilai centroid\n",
        "\n",
        "\n",
        "    for i in range(k): \n",
        "        titik = [arrayScal[j] for j in range(len(arrayScal)) if arrCluster[j] == i] \n",
        "        centroid[i] = np.mean(titik, axis=0) \n",
        "        temp.append(arrCluster)\n",
        "\n",
        "    mark = euclid(centroid, arrC, None)\n",
        "\n",
        "fig, ax = plt.subplots()\n",
        "warna = ['pink', 'black', 'green', 'gold', 'silver', 'navy', 'red']\n",
        "\n",
        "#menampilkan plot\n",
        "for i in range(k):\n",
        "        titik = np.array([arrayScal[j] for j in range(len(arrayScal)) if arrCluster[j] == i])\n",
        "        x = titik[:, 0]\n",
        "        y = titik[:, 1]\n",
        "        ax.scatter(x, y, s=5, c=warna[i])\n",
        "\n",
        "clusterx = centroid[:, 0]\n",
        "clustery = centroid[:, 1]        \n",
        "ax.scatter(clusterx, clustery, marker='H', s=100, color='yellow')\n",
        "plt.title(\"Clustering Data Train\")\n",
        "plt.show\n",
        "\n",
        "print(centroid)\n",
        "\n",
        "data[\"Cluster\"] = arrCluster\n",
        "data\n",
        "#menampilkan value nya\n",
        "data['Cluster'].value_counts()"
      ],
      "metadata": {
        "id": "ic_fLOTwInAA",
        "colab": {
          "base_uri": "https://localhost:8080/",
          "height": 403
        },
        "outputId": "75750f8b-2bce-4ca5-bb6c-cb9bb2f14fa3"
      },
      "execution_count": null,
      "outputs": [
        {
          "output_type": "stream",
          "name": "stdout",
          "text": [
            "[[-1  0]\n",
            " [ 0 -1]\n",
            " [ 2  0]]\n"
          ]
        },
        {
          "output_type": "execute_result",
          "data": {
            "text/plain": [
              "0.0    76\n",
              "2.0    47\n",
              "1.0    44\n",
              "Name: Cluster, dtype: int64"
            ]
          },
          "metadata": {},
          "execution_count": 26
        },
        {
          "output_type": "display_data",
          "data": {
            "text/plain": [
              "<Figure size 432x288 with 1 Axes>"
            ],
            "image/png": "[encoded data removed]"
          },
          "metadata": {
            "needs_background": "light"
          }
        }
      ]
    },
    {
      "cell_type": "markdown",
      "source": [
        "## Evaluasi\n"
      ],
      "metadata": {
        "id": "q9M4PC__E-tS"
      }
    },
    {
      "cell_type": "code",
      "source": [
        "\"\"\"# EVAL\"\"\"\n",
        "\n",
        "data_cluster\n",
        "\n",
        "\n",
        "\n",
        "from sklearn.cluster import KMeans\n",
        "wcss=[]\n",
        "for n in range(1,10):\n",
        "    km = KMeans(n_clusters= n, init='k-means++', random_state=50)\n",
        "    km.fit(data_cluster)\n",
        "    wcss.append(km.inertia_)\n",
        "plt.plot(wcss,color= 'navy', marker='o')\n",
        "plt.title('Elbow Method')\n",
        "plt.xlabel('Jumlah Cluster')\n",
        "plt.ylabel('WCSS')\n",
        "plt.show()\n",
        "\n",
        "\"\"\"# OUTPUT\"\"\"\n",
        "\n",
        "# menyimpan data ke dalam excel\n",
        "writer = pd.ExcelWriter('output.xlsx')\n",
        "# write dataframe to excel\n",
        "data.sort_values(by='Cluster', ascending=False).to_excel(writer)\n",
        "# save the excel\n",
        "writer.save()\n",
        "print('DataFrame is written successfully to Excel File.')"
      ],
      "metadata": {
        "id": "w3fa6sCHLXjc",
        "colab": {
          "base_uri": "https://localhost:8080/",
          "height": 312
        },
        "outputId": "1c7db4f5-5495-469e-fae4-39f4f314c2c8"
      },
      "execution_count": null,
      "outputs": [
        {
          "output_type": "display_data",
          "data": {
            "text/plain": [
              "<Figure size 432x288 with 1 Axes>"
            ],
            "image/png": "[encoded data removed]"
          },
          "metadata": {
            "needs_background": "light"
          }
        },
        {
          "output_type": "stream",
          "name": "stdout",
          "text": [
            "DataFrame is written successfully to Excel File.\n"
          ]
        }
      ]
    },
    {
      "cell_type": "markdown",
      "source": [
        "evaluasi : berdasarkan elbow method jumlah cluster yang diambil dan optimal adalah 2. karena k = 2 merupakan nilai k yang paling nilai eror nya paling minimum dan tidak signifikan berbeda dengan nilai k lainnya"
      ],
      "metadata": {
        "id": "6oKSbN8POoAf"
      }
    }
  ]
}